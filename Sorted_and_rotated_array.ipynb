{
  "nbformat": 4,
  "nbformat_minor": 0,
  "metadata": {
    "colab": {
      "name": "Sorted and rotated array.ipynb",
      "provenance": [],
      "authorship_tag": "ABX9TyPqcCRq5POZFaspM3HA3bfc",
      "include_colab_link": true
    },
    "kernelspec": {
      "name": "python3",
      "display_name": "Python 3"
    },
    "language_info": {
      "name": "python"
    }
  },
  "cells": [
    {
      "cell_type": "markdown",
      "metadata": {
        "id": "view-in-github",
        "colab_type": "text"
      },
      "source": [
        "<a href=\"https://colab.research.google.com/github/puranjay123/Data_structures_Practice_questions/blob/main/Sorted_and_rotated_array.ipynb\" target=\"_parent\"><img src=\"https://colab.research.google.com/assets/colab-badge.svg\" alt=\"Open In Colab\"/></a>"
      ]
    },
    {
      "cell_type": "markdown",
      "source": [
        " # \"Algorithm\n",
        "1) using binary seacrh find the middle element compare it to first element <br>\n",
        "2) if less than mid element than the pivot lies in the left half<br>\n",
        "3) if greater than the mid element than the pivot lies in the other half.<br>\n",
        "4) recusrivily iterate through the loop and find the pivot element than there are two sorted array sort them using linear search<br>\""
      ],
      "metadata": {
        "id": "D2-QliA485tb"
      }
    },
    {
      "cell_type": "markdown",
      "source": [
        "### Given a sorted array and rotated array of distinct elements ,find if x is present in the array or not."
      ],
      "metadata": {
        "id": "beo5V6WM6Tlu"
      }
    },
    {
      "cell_type": "code",
      "execution_count": 2,
      "metadata": {
        "colab": {
          "base_uri": "https://localhost:8080/"
        },
        "id": "uSbMT32Z5Ond",
        "outputId": "00bc4dc7-e855-4003-f475-972c9642c3c3"
      },
      "outputs": [
        {
          "output_type": "stream",
          "name": "stdout",
          "text": [
            "Index of the element is :  8\n"
          ]
        }
      ],
      "source": [
        "# Python Program to search an element\n",
        "# in a sorted and pivoted array\n",
        "\n",
        "# Searches an element key in a pivoted\n",
        "# sorted array arrp[] of size n\n",
        "def pivotedBinarySearch(arr, n, key):\n",
        "\n",
        "\tpivot = findPivot(arr, 0, n-1);\n",
        "\n",
        "\t# If we didn't find a pivot,\n",
        "\t# then array is not rotated at all\n",
        "\tif pivot == -1:\n",
        "\t\treturn binarySearch(arr, 0, n-1, key);\n",
        "\n",
        "\t# If we found a pivot, then first\n",
        "\t# compare with pivot and then\n",
        "\t# search in two subarrays around pivot\n",
        "\tif arr[pivot] == key:\n",
        "\t\treturn pivot\n",
        "\tif arr[0] <= key:\n",
        "\t\treturn binarySearch(arr, 0, pivot-1, key);\n",
        "\treturn binarySearch(arr, pivot + 1, n-1, key);\n",
        "\n",
        "\n",
        "# Function to get pivot. For array\n",
        "# 3, 4, 5, 6, 1, 2 it returns 3\n",
        "# (index of 6)\n",
        "def findPivot(arr, low, high):\n",
        "\t\n",
        "\t# base cases\n",
        "\tif high < low:\n",
        "\t\treturn -1\n",
        "\tif high == low:\n",
        "\t\treturn low\n",
        "\t\n",
        "\t# low + (high - low)/2;\n",
        "\tmid = int((low + high)/2)\n",
        "\t\n",
        "\tif mid < high and arr[mid] > arr[mid + 1]:\n",
        "\t\treturn mid\n",
        "\tif mid > low and arr[mid] < arr[mid - 1]:\n",
        "\t\treturn (mid-1)\n",
        "\tif arr[low] >= arr[mid]:\n",
        "\t\treturn findPivot(arr, low, mid-1)\n",
        "\treturn findPivot(arr, mid + 1, high)\n",
        "\n",
        "# Standard Binary Search function*/\n",
        "def binarySearch(arr, low, high, key):\n",
        "\n",
        "\tif high < low:\n",
        "\t\treturn -1\n",
        "\t\t\n",
        "\t# low + (high - low)/2;\n",
        "\tmid = int((low + high)/2)\n",
        "\t\n",
        "\tif key == arr[mid]:\n",
        "\t\treturn mid\n",
        "\tif key > arr[mid]:\n",
        "\t\treturn binarySearch(arr, (mid + 1), high,\n",
        "\t\t\t\t\t\t\t\t\t\t\tkey);\n",
        "\treturn binarySearch(arr, low, (mid -1), key);\n",
        "\n",
        "\n",
        "# Driver program to check above functions */\n",
        "# Let us search 3 in below array\n",
        "arr1 = [5, 6, 7, 8, 9, 10, 1, 2, 3]\n",
        "n = len(arr1)\n",
        "key = 3\n",
        "print(\"Index of the element is : \",\n",
        "\tpivotedBinarySearch(arr1, n, key))\n",
        "\t\n",
        "# This is contributed by Smitha Dinesh Semwal\n"
      ]
    },
    {
      "cell_type": "code",
      "source": [
        ""
      ],
      "metadata": {
        "id": "7Mur4EAUCfsX"
      },
      "execution_count": null,
      "outputs": []
    }
  ]
}